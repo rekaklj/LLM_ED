{
 "cells": [
  {
   "cell_type": "code",
   "execution_count": 19,
   "id": "abc5d9dd",
   "metadata": {},
   "outputs": [],
   "source": [
    "import pandas as pd"
   ]
  },
  {
   "cell_type": "code",
   "execution_count": 20,
   "id": "e928204a",
   "metadata": {},
   "outputs": [
    {
     "name": "stdout",
     "output_type": "stream",
     "text": [
      "<\tJJR\tamod\tO\n",
      "DOC\tNN\tnn\tO\n",
      "id\tNN\troot\tO\n",
      "=\tJJ\tdep\tO\n",
      "\"\t``\tpunct\tO\n",
      "NYT\tNNP\tdep\tO\n",
      "_\tCD\tnum\tO\n",
      "ENG\tNNP\tprep\t\n"
     ]
    }
   ],
   "source": [
    "with open('train.txt', encoding='utf8') as infile:\n",
    "    text = infile.read()\n",
    "print(text[:100])"
   ]
  },
  {
   "cell_type": "code",
   "execution_count": 21,
   "id": "da9ad522",
   "metadata": {},
   "outputs": [],
   "source": [
    "def token_tag(text):\n",
    "    token_tag_pairs = []\n",
    "    text = text.split('\\n')\n",
    "    for line in text:\n",
    "        tokens_and_tags = line.split('\\t')\n",
    "        if len(tokens_and_tags) == 4:\n",
    "            token_tag_pairs.append(f'{tokens_and_tags[0]}\\t{tokens_and_tags[-1]}')\n",
    "        else:\n",
    "            token_tag_pairs.append('')\n",
    "    tokentag = '\\n'.join(token_tag_pairs)\n",
    "    return tokentag"
   ]
  },
  {
   "cell_type": "code",
   "execution_count": 22,
   "id": "75230475",
   "metadata": {},
   "outputs": [
    {
     "name": "stdout",
     "output_type": "stream",
     "text": [
      "<\tO\n",
      "DOC\tO\n",
      "id\tO\n",
      "=\tO\n",
      "\"\tO\n",
      "NYT\tO\n",
      "_\tO\n",
      "ENG\tO\n",
      "_\tO\n",
      "20131029.0228\tO\n",
      "\"\tO\n",
      "\n",
      "type\tO\n",
      "=\tO\n",
      "\"\tO\n",
      "story\tO\n",
      "\"\tO\n",
      "\n",
      "from\tO\n",
      "_\n"
     ]
    }
   ],
   "source": [
    "text = token_tag(text)\n",
    "print(text[:100])"
   ]
  },
  {
   "cell_type": "code",
   "execution_count": 23,
   "id": "2ee223f7",
   "metadata": {},
   "outputs": [],
   "source": [
    "text = text.split('\\n')"
   ]
  },
  {
   "cell_type": "code",
   "execution_count": 25,
   "id": "10d17ea8",
   "metadata": {},
   "outputs": [
    {
     "name": "stdout",
     "output_type": "stream",
     "text": [
      "['<\\tO', 'DOC\\tO', 'id\\tO', '=\\tO', '\"\\tO']\n"
     ]
    }
   ],
   "source": [
    "print(text[:5])"
   ]
  },
  {
   "cell_type": "code",
   "execution_count": 26,
   "id": "7ab70771",
   "metadata": {},
   "outputs": [],
   "source": [
    "def tags(lines_of_text):\n",
    "    lines = []\n",
    "    for line in lines_of_text:\n",
    "        line = line.replace('\\tO', '\\t<O>')\n",
    "        line = line.replace('\\tB-EVENT', '\\t<EVENT>')\n",
    "        line = line.replace('\\tI-EVENT', '\\t<EVENT>')\n",
    "        lines.append(line)\n",
    "    return lines"
   ]
  },
  {
   "cell_type": "code",
   "execution_count": 27,
   "id": "3a5cfb8f",
   "metadata": {},
   "outputs": [],
   "source": [
    "text = tags(text)"
   ]
  },
  {
   "cell_type": "code",
   "execution_count": 28,
   "id": "adb18b19",
   "metadata": {},
   "outputs": [],
   "source": [
    "text = '\\n'.join(text)"
   ]
  },
  {
   "cell_type": "code",
   "execution_count": 29,
   "id": "12c4d396",
   "metadata": {},
   "outputs": [
    {
     "name": "stdout",
     "output_type": "stream",
     "text": [
      "<\t<O>\n",
      "DOC\t<O>\n",
      "id\t<O>\n",
      "=\t<O>\n",
      "\"\t<O>\n",
      "NYT\t<O>\n",
      "_\t<O>\n",
      "ENG\t<O>\n",
      "_\t<O>\n",
      "20131029.0228\t<O>\n",
      "\"\t<O>\n",
      "\n",
      "type\t<O>\n",
      "=\t<O>\n"
     ]
    }
   ],
   "source": [
    "print(text[:100])"
   ]
  },
  {
   "cell_type": "code",
   "execution_count": 30,
   "id": "3dee97b7",
   "metadata": {},
   "outputs": [],
   "source": [
    "with open('train_tags_adjusted.txt', 'w', encoding='utf8') as outfile:\n",
    "    outfile.write(text)"
   ]
  },
  {
   "cell_type": "code",
   "execution_count": 31,
   "id": "d5124957",
   "metadata": {},
   "outputs": [
    {
     "name": "stdout",
     "output_type": "stream",
     "text": [
      "<\t<O>\n",
      "DOC\t<O>\n",
      "id\t<O>\n",
      "=\t<O>\n",
      "\"\t<O>\n",
      "NYT\t<O>\n",
      "_\t<O>\n",
      "ENG\t<O>\n",
      "_\t<O>\n",
      "20131029.0228\t<O>\n",
      "\"\t<O>\n",
      "\n",
      "type\t<O>\n",
      "=\t<O>\n"
     ]
    }
   ],
   "source": [
    "with open('train_tags_adjusted.txt', encoding='utf8') as infile:\n",
    "    text = infile.read()\n",
    "print(text[:100])"
   ]
  }
 ],
 "metadata": {
  "kernelspec": {
   "display_name": "Python 3 (ipykernel)",
   "language": "python",
   "name": "python3"
  },
  "language_info": {
   "codemirror_mode": {
    "name": "ipython",
    "version": 3
   },
   "file_extension": ".py",
   "mimetype": "text/x-python",
   "name": "python",
   "nbconvert_exporter": "python",
   "pygments_lexer": "ipython3",
   "version": "3.11.4"
  }
 },
 "nbformat": 4,
 "nbformat_minor": 5
}
