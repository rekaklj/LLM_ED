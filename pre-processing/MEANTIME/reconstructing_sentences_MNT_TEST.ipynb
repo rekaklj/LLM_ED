{
 "cells": [
  {
   "cell_type": "markdown",
   "id": "51acf59b",
   "metadata": {},
   "source": [
    "Reconstructing the sentences of the **MEANTIME - TEST** set for zero-shot prompting"
   ]
  },
  {
   "cell_type": "code",
   "execution_count": 31,
   "id": "c4e70431",
   "metadata": {},
   "outputs": [],
   "source": [
    "import pandas as pd"
   ]
  },
  {
   "cell_type": "code",
   "execution_count": 32,
   "id": "9262da08",
   "metadata": {},
   "outputs": [
    {
     "name": "stdout",
     "output_type": "stream",
     "text": [
      "Northrop\tNNP\tO\tO\n",
      "Grumman\tNNP\tO\tO\n",
      "and\tCC\tO\tO\n",
      "Airbus\tNNP\tO\tO\n",
      "parent\tNN\tO\tO\n",
      "EADS\tNN\tO\tO\n",
      "defeat\tNN\tO\tB-EVENT\n",
      "Boeing\tNNP\tO\tO\n",
      "for\tIN\tO\tO\n",
      "$\t$\tO\tO\n",
      "40\tCD\tO\tO\n",
      "billion\tCD\tO\tO\n",
      "US\tNNP\tO\tO\n",
      "airtanker\tNN\tO\tO\n",
      "contract\n"
     ]
    }
   ],
   "source": [
    "with open('test.txt', encoding='utf8') as infile:\n",
    "    text = infile.read()\n",
    "print(text[:200])"
   ]
  },
  {
   "cell_type": "code",
   "execution_count": 33,
   "id": "e05220ad",
   "metadata": {},
   "outputs": [],
   "source": [
    "def token_tag(text):\n",
    "    token_tag_pairs = []\n",
    "    text = text.split('\\n')\n",
    "    for line in text:\n",
    "        tokens_and_tags = line.split('\\t')\n",
    "        if len(tokens_and_tags) == 4:\n",
    "            token_tag_pairs.append(f'{tokens_and_tags[0]}\\t{tokens_and_tags[-1]}')\n",
    "        else:\n",
    "            token_tag_pairs.append('')\n",
    "    tokentag = '\\n'.join(token_tag_pairs)\n",
    "    return tokentag"
   ]
  },
  {
   "cell_type": "code",
   "execution_count": 34,
   "id": "5dd24a61",
   "metadata": {},
   "outputs": [
    {
     "name": "stdout",
     "output_type": "stream",
     "text": [
      "Northrop\tO\n",
      "Grumman\tO\n",
      "and\tO\n",
      "Airbus\tO\n",
      "parent\tO\n",
      "EADS\tO\n",
      "defeat\tB-EVENT\n",
      "Boeing\tO\n",
      "for\tO\n",
      "$\tO\n",
      "40\tO\n",
      "billion\tO\n"
     ]
    }
   ],
   "source": [
    "text = token_tag(text)\n",
    "print(text[:100])"
   ]
  },
  {
   "cell_type": "code",
   "execution_count": 35,
   "id": "2a2b70b7",
   "metadata": {},
   "outputs": [
    {
     "name": "stdout",
     "output_type": "stream",
     "text": [
      "1115\n"
     ]
    }
   ],
   "source": [
    "text = text.split('\\n\\n')\n",
    "print(len(text))"
   ]
  },
  {
   "cell_type": "code",
   "execution_count": 36,
   "id": "a62b80a5",
   "metadata": {},
   "outputs": [],
   "source": [
    "def cleaning(sentence):\n",
    "    sentence = sentence.replace(\" n't\", \"n't\")\n",
    "    sentence = sentence.replace(\" 's\", \"'s\")\n",
    "    sentence = sentence.replace(\" 'm\", \"'m\")\n",
    "    sentence = sentence.replace(\" 're\", \"'re\")\n",
    "    sentence = sentence.replace(\" 've\", \"'ve\")\n",
    "    sentence = sentence.replace(\" 'd\", \"'d\")\n",
    "    sentence = sentence.replace(\" .\", \".\")\n",
    "    sentence = sentence.replace(\" ,\", \",\")\n",
    "    sentence = sentence.replace(\" !\", \"!\")\n",
    "    sentence = sentence.replace(\" ?\", \"?\")\n",
    "    sentence = sentence.replace(\" ;\", \";\")\n",
    "    sentence = sentence.replace(\" :\", \":\")\n",
    "    sentence = sentence.replace(\"( \", \"(\")\n",
    "    sentence = sentence.replace(\" )\", \")\")        \n",
    "    return sentence      "
   ]
  },
  {
   "cell_type": "code",
   "execution_count": 37,
   "id": "bcda38e5",
   "metadata": {},
   "outputs": [],
   "source": [
    "def sentence_string(annotated_sentence):\n",
    "    lines_of_annotated_sentence = annotated_sentence.split('\\n')\n",
    "    sentence = []\n",
    "    for line in lines_of_annotated_sentence:\n",
    "        splitline = line.split('\\t')\n",
    "        sentence.append(splitline[0])\n",
    "    sentence_string = ' '.join(sentence)\n",
    "    return cleaning(sentence_string)"
   ]
  },
  {
   "cell_type": "code",
   "execution_count": 38,
   "id": "d841bc20",
   "metadata": {},
   "outputs": [],
   "source": [
    "def sentences_only(list_of_annotated_sentences):\n",
    "    sentences_only = []\n",
    "    for item in list_of_annotated_sentences:\n",
    "        sentence = sentence_string(item)\n",
    "        sentences_only.append(sentence)\n",
    "    return sentences_only"
   ]
  },
  {
   "cell_type": "code",
   "execution_count": 39,
   "id": "58d29f0c",
   "metadata": {},
   "outputs": [
    {
     "name": "stdout",
     "output_type": "stream",
     "text": [
      "Singapore will remain the airliner's first stop, where Singapore Airlines will display the aircraft they intend to launch into passenger-carrying service in November 2006.\n"
     ]
    }
   ],
   "source": [
    "print(sentences_only(text)[34])"
   ]
  },
  {
   "cell_type": "code",
   "execution_count": 40,
   "id": "ab19889f",
   "metadata": {},
   "outputs": [
    {
     "data": {
      "text/plain": [
       "['Northrop Grumman and Airbus parent EADS defeat Boeing for $ 40 billion US airtanker contract',\n",
       " 'March 01, 2008',\n",
       " 'Northrop Grumman and Airbus parent company European Aeronautic Defence and Space Company EADS N.V. (EADS) have unexpectedly defeated Boeing for a US$ 40 billion (GB # 20.1 billion) contract to supply the United States Air Force (USAF) with 179 new aerial refueling tankers at a rate of 15 a year.',\n",
       " 'It is the biggest contract of its kind since the Joint Strike Fighter program.',\n",
       " 'That contract was fought for between Boeing and Lockheed Martin, Lockheed ultimately winning the contest.']"
      ]
     },
     "execution_count": 40,
     "metadata": {},
     "output_type": "execute_result"
    }
   ],
   "source": [
    "list_of_sentences = sentences_only(text)\n",
    "list_of_sentences[:5]"
   ]
  },
  {
   "cell_type": "code",
   "execution_count": 41,
   "id": "82e37e18",
   "metadata": {},
   "outputs": [
    {
     "data": {
      "text/html": [
       "<div>\n",
       "<style scoped>\n",
       "    .dataframe tbody tr th:only-of-type {\n",
       "        vertical-align: middle;\n",
       "    }\n",
       "\n",
       "    .dataframe tbody tr th {\n",
       "        vertical-align: top;\n",
       "    }\n",
       "\n",
       "    .dataframe thead th {\n",
       "        text-align: right;\n",
       "    }\n",
       "</style>\n",
       "<table border=\"1\" class=\"dataframe\">\n",
       "  <thead>\n",
       "    <tr style=\"text-align: right;\">\n",
       "      <th></th>\n",
       "      <th>sentences</th>\n",
       "    </tr>\n",
       "  </thead>\n",
       "  <tbody>\n",
       "    <tr>\n",
       "      <th>0</th>\n",
       "      <td>Northrop Grumman and Airbus parent EADS defeat...</td>\n",
       "    </tr>\n",
       "    <tr>\n",
       "      <th>1</th>\n",
       "      <td>March 01, 2008</td>\n",
       "    </tr>\n",
       "    <tr>\n",
       "      <th>2</th>\n",
       "      <td>Northrop Grumman and Airbus parent company Eur...</td>\n",
       "    </tr>\n",
       "    <tr>\n",
       "      <th>3</th>\n",
       "      <td>It is the biggest contract of its kind since t...</td>\n",
       "    </tr>\n",
       "    <tr>\n",
       "      <th>4</th>\n",
       "      <td>That contract was fought for between Boeing an...</td>\n",
       "    </tr>\n",
       "    <tr>\n",
       "      <th>...</th>\n",
       "      <td>...</td>\n",
       "    </tr>\n",
       "    <tr>\n",
       "      <th>1110</th>\n",
       "      <td>September 18, 2008</td>\n",
       "    </tr>\n",
       "    <tr>\n",
       "      <th>1111</th>\n",
       "      <td>Stock indexes around the globe reacted favorab...</td>\n",
       "    </tr>\n",
       "    <tr>\n",
       "      <th>1112</th>\n",
       "      <td>At 0800 UTC, the Bank of Canada, the Bank of E...</td>\n",
       "    </tr>\n",
       "    <tr>\n",
       "      <th>1113</th>\n",
       "      <td>The credit arrangements, also known as `` swap...</td>\n",
       "    </tr>\n",
       "    <tr>\n",
       "      <th>1114</th>\n",
       "      <td>Totaling US$ 180 billion, the Federal Reserve ...</td>\n",
       "    </tr>\n",
       "  </tbody>\n",
       "</table>\n",
       "<p>1115 rows × 1 columns</p>\n",
       "</div>"
      ],
      "text/plain": [
       "                                              sentences\n",
       "0     Northrop Grumman and Airbus parent EADS defeat...\n",
       "1                                        March 01, 2008\n",
       "2     Northrop Grumman and Airbus parent company Eur...\n",
       "3     It is the biggest contract of its kind since t...\n",
       "4     That contract was fought for between Boeing an...\n",
       "...                                                 ...\n",
       "1110                                 September 18, 2008\n",
       "1111  Stock indexes around the globe reacted favorab...\n",
       "1112  At 0800 UTC, the Bank of Canada, the Bank of E...\n",
       "1113  The credit arrangements, also known as `` swap...\n",
       "1114  Totaling US$ 180 billion, the Federal Reserve ...\n",
       "\n",
       "[1115 rows x 1 columns]"
      ]
     },
     "execution_count": 41,
     "metadata": {},
     "output_type": "execute_result"
    }
   ],
   "source": [
    "df = pd.DataFrame({'sentences': list_of_sentences})\n",
    "df"
   ]
  },
  {
   "cell_type": "code",
   "execution_count": 42,
   "id": "995fbe1f",
   "metadata": {},
   "outputs": [],
   "source": [
    "df.to_csv('MNT_TEST_list_of_sentences.csv')"
   ]
  },
  {
   "cell_type": "code",
   "execution_count": 43,
   "id": "73feec42",
   "metadata": {},
   "outputs": [],
   "source": [
    "df = pd.read_csv('MNT_TEST_list_of_sentences.csv')"
   ]
  },
  {
   "cell_type": "code",
   "execution_count": 44,
   "id": "0db2a39c",
   "metadata": {},
   "outputs": [
    {
     "data": {
      "text/html": [
       "<div>\n",
       "<style scoped>\n",
       "    .dataframe tbody tr th:only-of-type {\n",
       "        vertical-align: middle;\n",
       "    }\n",
       "\n",
       "    .dataframe tbody tr th {\n",
       "        vertical-align: top;\n",
       "    }\n",
       "\n",
       "    .dataframe thead th {\n",
       "        text-align: right;\n",
       "    }\n",
       "</style>\n",
       "<table border=\"1\" class=\"dataframe\">\n",
       "  <thead>\n",
       "    <tr style=\"text-align: right;\">\n",
       "      <th></th>\n",
       "      <th>Unnamed: 0</th>\n",
       "      <th>sentences</th>\n",
       "    </tr>\n",
       "  </thead>\n",
       "  <tbody>\n",
       "    <tr>\n",
       "      <th>0</th>\n",
       "      <td>0</td>\n",
       "      <td>Northrop Grumman and Airbus parent EADS defeat...</td>\n",
       "    </tr>\n",
       "    <tr>\n",
       "      <th>1</th>\n",
       "      <td>1</td>\n",
       "      <td>March 01, 2008</td>\n",
       "    </tr>\n",
       "    <tr>\n",
       "      <th>2</th>\n",
       "      <td>2</td>\n",
       "      <td>Northrop Grumman and Airbus parent company Eur...</td>\n",
       "    </tr>\n",
       "    <tr>\n",
       "      <th>3</th>\n",
       "      <td>3</td>\n",
       "      <td>It is the biggest contract of its kind since t...</td>\n",
       "    </tr>\n",
       "    <tr>\n",
       "      <th>4</th>\n",
       "      <td>4</td>\n",
       "      <td>That contract was fought for between Boeing an...</td>\n",
       "    </tr>\n",
       "  </tbody>\n",
       "</table>\n",
       "</div>"
      ],
      "text/plain": [
       "   Unnamed: 0                                          sentences\n",
       "0           0  Northrop Grumman and Airbus parent EADS defeat...\n",
       "1           1                                     March 01, 2008\n",
       "2           2  Northrop Grumman and Airbus parent company Eur...\n",
       "3           3  It is the biggest contract of its kind since t...\n",
       "4           4  That contract was fought for between Boeing an..."
      ]
     },
     "execution_count": 44,
     "metadata": {},
     "output_type": "execute_result"
    }
   ],
   "source": [
    "df.head()"
   ]
  },
  {
   "cell_type": "code",
   "execution_count": 45,
   "id": "a54e04cb",
   "metadata": {},
   "outputs": [
    {
     "data": {
      "text/plain": [
       "['Northrop Grumman and Airbus parent EADS defeat Boeing for $ 40 billion US airtanker contract',\n",
       " 'March 01, 2008',\n",
       " 'Northrop Grumman and Airbus parent company European Aeronautic Defence and Space Company EADS N.V. (EADS) have unexpectedly defeated Boeing for a US$ 40 billion (GB # 20.1 billion) contract to supply the United States Air Force (USAF) with 179 new aerial refueling tankers at a rate of 15 a year.',\n",
       " 'It is the biggest contract of its kind since the Joint Strike Fighter program.',\n",
       " 'That contract was fought for between Boeing and Lockheed Martin, Lockheed ultimately winning the contest.']"
      ]
     },
     "execution_count": 45,
     "metadata": {},
     "output_type": "execute_result"
    }
   ],
   "source": [
    "entries = df['sentences'].tolist()\n",
    "entries[:5]"
   ]
  }
 ],
 "metadata": {
  "kernelspec": {
   "display_name": "Python 3 (ipykernel)",
   "language": "python",
   "name": "python3"
  },
  "language_info": {
   "codemirror_mode": {
    "name": "ipython",
    "version": 3
   },
   "file_extension": ".py",
   "mimetype": "text/x-python",
   "name": "python",
   "nbconvert_exporter": "python",
   "pygments_lexer": "ipython3",
   "version": "3.11.4"
  }
 },
 "nbformat": 4,
 "nbformat_minor": 5
}
