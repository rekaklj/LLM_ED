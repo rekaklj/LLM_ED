{
 "cells": [
  {
   "cell_type": "code",
   "execution_count": 14,
   "id": "279bf8a7",
   "metadata": {},
   "outputs": [
    {
     "name": "stdout",
     "output_type": "stream",
     "text": [
      "<\t<O>\n",
      "DOC\t<O>\n",
      "id\t<O>\n",
      "=\t<O>\n",
      "\"\t<O>\n",
      "NYT\t<O>\n",
      "_\t<O>\n",
      "ENG\t<O>\n",
      "_\t<O>\n",
      "20131029.0228\t<O>\n",
      "\"\t<O>\n",
      "\n",
      "type\t<O>\n",
      "=\t<O>\n"
     ]
    }
   ],
   "source": [
    "with open('train_tags_adjusted_MNT.txt', encoding='utf8') as infile:\n",
    "    text = infile.read()\n",
    "print(text[:100])"
   ]
  },
  {
   "cell_type": "code",
   "execution_count": 15,
   "id": "2cd068d2",
   "metadata": {},
   "outputs": [],
   "source": [
    "text = text.split('\\n\\n')"
   ]
  },
  {
   "cell_type": "code",
   "execution_count": 16,
   "id": "3d3308e6",
   "metadata": {},
   "outputs": [],
   "source": [
    "string1 = '<\\t<O>'\n",
    "string2 = '>\\t<O>'\n",
    "string3 = '=\\t<O>'\n",
    "text2 = [ item for item in text if string1 not in item and string2 not in item and string3 not in item and len(item)>5 ]"
   ]
  },
  {
   "cell_type": "code",
   "execution_count": 17,
   "id": "611f90ab",
   "metadata": {},
   "outputs": [],
   "source": [
    "text2 = '\\n\\n'.join(text2)"
   ]
  },
  {
   "cell_type": "code",
   "execution_count": 18,
   "id": "1220c521",
   "metadata": {},
   "outputs": [
    {
     "name": "stdout",
     "output_type": "stream",
     "text": [
      "Scott\t<O>\n",
      "rejects\t<EVENT>\n",
      "Bar\t<O>\n",
      "'s\t<O>\n",
      "lists\t<O>\n",
      "\n",
      "Times\t<O>\n",
      "/\t<O>\n",
      "Herald\t<O>\n",
      "Tallahassee\t<O>\n",
      "Burea\n"
     ]
    }
   ],
   "source": [
    "print(text2[:100])"
   ]
  },
  {
   "cell_type": "code",
   "execution_count": 19,
   "id": "3d3c4dd1",
   "metadata": {},
   "outputs": [],
   "source": [
    "with open('MNT_train_tags_adjusted_not_meaningful_strings_removed.txt', 'w', encoding='utf8') as outfile:\n",
    "    outfile.write(text2)"
   ]
  },
  {
   "cell_type": "code",
   "execution_count": 20,
   "id": "0adbb792",
   "metadata": {},
   "outputs": [
    {
     "name": "stdout",
     "output_type": "stream",
     "text": [
      "Scott\t<O>\n",
      "rejects\t<EVENT>\n",
      "Bar\t<O>\n",
      "'s\t<O>\n",
      "lists\t<O>\n",
      "\n",
      "Times\t<O>\n",
      "/\t<O>\n",
      "Herald\t<O>\n",
      "Tallahassee\t<O>\n",
      "Bureau\t<O>\n",
      "\n",
      "TALLAHASSEE\t<O>\n",
      "—\t<O>\n",
      "Gov.\t<O>\n",
      "Rick\t<O>\n",
      "Scott\t<O>\n",
      ",\t<O>\n",
      "seeking\t<EVENT>\n",
      "to\t<O>\n",
      "bring\t<EVENT>\n",
      "\n"
     ]
    }
   ],
   "source": [
    "with open('MNT_train_tags_adjusted_not_meaningful_strings_removed.txt', encoding='utf8') as infile:\n",
    "    text = infile.read()\n",
    "print(text[:200])"
   ]
  }
 ],
 "metadata": {
  "kernelspec": {
   "display_name": "Python 3 (ipykernel)",
   "language": "python",
   "name": "python3"
  },
  "language_info": {
   "codemirror_mode": {
    "name": "ipython",
    "version": 3
   },
   "file_extension": ".py",
   "mimetype": "text/x-python",
   "name": "python",
   "nbconvert_exporter": "python",
   "pygments_lexer": "ipython3",
   "version": "3.11.4"
  }
 },
 "nbformat": 4,
 "nbformat_minor": 5
}
