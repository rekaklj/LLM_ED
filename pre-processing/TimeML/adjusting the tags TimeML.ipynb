{
 "cells": [
  {
   "cell_type": "code",
   "execution_count": 1,
   "id": "ce5238d0",
   "metadata": {},
   "outputs": [],
   "source": [
    "import pandas as pd"
   ]
  },
  {
   "cell_type": "code",
   "execution_count": 2,
   "id": "20fddb06",
   "metadata": {},
   "outputs": [
    {
     "name": "stdout",
     "output_type": "stream",
     "text": [
      "\n",
      "Aetna\tNNP\tnn\tO\n",
      "Life\tNNP\tnn\tO\n",
      "amp\tNNP\tnn\tO\n",
      "Casualty\tNNP\tnn\tO\n",
      "Co.\tNNP\tposs\tO\n",
      "'s\tPOS\tpossessive\tO\n",
      "third-quarter\tJJ\tamod\tO\n",
      "net\tJJ\tamod\tO\n",
      "income\tNN\tnsubj\tO\n",
      "fell\tVBD\troot\tB-EVENT\n",
      "22\tCD\tnum\tO\n",
      "%\tNN\tdobj\tO\n",
      "to\n"
     ]
    }
   ],
   "source": [
    "with open('train.txt', encoding='utf8') as infile:\n",
    "    text = infile.read()\n",
    "print(text[:200])"
   ]
  },
  {
   "cell_type": "code",
   "execution_count": 3,
   "id": "c5a537f3",
   "metadata": {},
   "outputs": [],
   "source": [
    "def token_tag(text):\n",
    "    token_tag_pairs = []\n",
    "    text = text.split('\\n')\n",
    "    for line in text:\n",
    "        tokens_and_tags = line.split('\\t')\n",
    "        if len(tokens_and_tags) == 4:\n",
    "            token_tag_pairs.append(f'{tokens_and_tags[0]}\\t{tokens_and_tags[-1]}')\n",
    "        else:\n",
    "            token_tag_pairs.append('')\n",
    "    tokentag = '\\n'.join(token_tag_pairs)\n",
    "    return tokentag"
   ]
  },
  {
   "cell_type": "code",
   "execution_count": 4,
   "id": "374a32f0",
   "metadata": {},
   "outputs": [
    {
     "name": "stdout",
     "output_type": "stream",
     "text": [
      "\n",
      "Aetna\tO\n",
      "Life\tO\n",
      "amp\tO\n",
      "Casualty\tO\n",
      "Co.\tO\n",
      "'s\tO\n",
      "third-quarter\tO\n",
      "net\tO\n",
      "income\tO\n",
      "fell\tB-EVENT\n",
      "22\tO\n",
      "%\tO\n",
      "to\t\n"
     ]
    }
   ],
   "source": [
    "text = token_tag(text)\n",
    "print(text[:100])"
   ]
  },
  {
   "cell_type": "code",
   "execution_count": 5,
   "id": "c7538d2a",
   "metadata": {},
   "outputs": [],
   "source": [
    "text = text.split('\\n')"
   ]
  },
  {
   "cell_type": "code",
   "execution_count": 7,
   "id": "1591997b",
   "metadata": {},
   "outputs": [
    {
     "name": "stdout",
     "output_type": "stream",
     "text": [
      "['', 'Aetna\\tO', 'Life\\tO', 'amp\\tO', 'Casualty\\tO']\n"
     ]
    }
   ],
   "source": [
    "print(text[:5])"
   ]
  },
  {
   "cell_type": "code",
   "execution_count": 8,
   "id": "8217c872",
   "metadata": {},
   "outputs": [],
   "source": [
    "def tags(lines_of_text):\n",
    "    lines = []\n",
    "    for line in lines_of_text:\n",
    "        line = line.replace('\\tO', '\\t<O>')\n",
    "        line = line.replace('\\tB-EVENT', '\\t<EVENT>')\n",
    "        line = line.replace('\\tI-EVENT', '\\t<EVENT>')\n",
    "        lines.append(line)\n",
    "    return lines"
   ]
  },
  {
   "cell_type": "code",
   "execution_count": 9,
   "id": "18cf7bed",
   "metadata": {},
   "outputs": [],
   "source": [
    "text = tags(text)"
   ]
  },
  {
   "cell_type": "code",
   "execution_count": 10,
   "id": "0676a97b",
   "metadata": {},
   "outputs": [],
   "source": [
    "text = '\\n'.join(text)"
   ]
  },
  {
   "cell_type": "code",
   "execution_count": 13,
   "id": "834f6afd",
   "metadata": {},
   "outputs": [
    {
     "name": "stdout",
     "output_type": "stream",
     "text": [
      "\n",
      "Aetna\t<O>\n",
      "Life\t<O>\n",
      "amp\t<O>\n",
      "Casualty\t<O>\n",
      "Co.\t<O>\n",
      "'\n"
     ]
    }
   ],
   "source": [
    "print(text[:50])"
   ]
  },
  {
   "cell_type": "code",
   "execution_count": 14,
   "id": "091f4352",
   "metadata": {},
   "outputs": [],
   "source": [
    "with open('train_tags_adjusted.txt', 'w', encoding='utf8') as outfile:\n",
    "    outfile.write(text)"
   ]
  },
  {
   "cell_type": "code",
   "execution_count": 16,
   "id": "7fe4b461",
   "metadata": {},
   "outputs": [
    {
     "name": "stdout",
     "output_type": "stream",
     "text": [
      "\n",
      "Aetna\t<O>\n",
      "Life\t<O>\n",
      "amp\t<O>\n",
      "Casualty\t<O>\n",
      "Co.\t<O>\n",
      "'s\t<O>\n",
      "third-quarter\t<O>\n",
      "net\t<O>\n",
      "income\t<O>\n",
      "fell\t<EVENT>\n",
      "22\t<O>\n",
      "%\t<O>\n",
      "to\t<O>\n",
      "$\t<O>\n",
      "182.6\t<O>\n",
      "million\t\n"
     ]
    }
   ],
   "source": [
    "with open('train_tags_adjusted.txt', encoding='utf8') as infile:\n",
    "    text = infile.read()\n",
    "print(text[:150])"
   ]
  }
 ],
 "metadata": {
  "kernelspec": {
   "display_name": "Python 3 (ipykernel)",
   "language": "python",
   "name": "python3"
  },
  "language_info": {
   "codemirror_mode": {
    "name": "ipython",
    "version": 3
   },
   "file_extension": ".py",
   "mimetype": "text/x-python",
   "name": "python",
   "nbconvert_exporter": "python",
   "pygments_lexer": "ipython3",
   "version": "3.11.4"
  }
 },
 "nbformat": 4,
 "nbformat_minor": 5
}
