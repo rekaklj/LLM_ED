{
 "cells": [
  {
   "cell_type": "code",
   "execution_count": 14,
   "id": "279bf8a7",
   "metadata": {},
   "outputs": [
    {
     "name": "stdout",
     "output_type": "stream",
     "text": [
      "\n",
      "Aetna\t<O>\n",
      "Life\t<O>\n",
      "amp\t<O>\n",
      "Casualty\t<O>\n",
      "Co.\t<O>\n",
      "'s\t<O>\n",
      "third-quarter\t<O>\n",
      "net\t<O>\n",
      "income\t<O>\n",
      "fell\t<EVENT>\n",
      "22\t<O>\n",
      "%\t<O>\n",
      "to\t<O>\n",
      "$\t<O>\n",
      "182.6\t<O>\n",
      "million\t\n"
     ]
    }
   ],
   "source": [
    "with open('train_tags_adjusted_TimeML.txt', encoding='utf8') as infile:\n",
    "    text = infile.read()\n",
    "print(text[:150])"
   ]
  },
  {
   "cell_type": "code",
   "execution_count": 15,
   "id": "2cd068d2",
   "metadata": {},
   "outputs": [],
   "source": [
    "text = text.split('\\n\\n')"
   ]
  },
  {
   "cell_type": "code",
   "execution_count": 16,
   "id": "3d3308e6",
   "metadata": {},
   "outputs": [],
   "source": [
    "string1 = '<\\t<O>'\n",
    "string2 = '>\\t<O>'\n",
    "string3 = '=\\t<O>'\n",
    "text2 = [ item for item in text if string1 not in item and string2 not in item and string3 not in item and len(item)>5  ]"
   ]
  },
  {
   "cell_type": "code",
   "execution_count": 17,
   "id": "611f90ab",
   "metadata": {},
   "outputs": [],
   "source": [
    "text2 = '\\n\\n'.join(text2)"
   ]
  },
  {
   "cell_type": "code",
   "execution_count": 18,
   "id": "1220c521",
   "metadata": {},
   "outputs": [
    {
     "name": "stdout",
     "output_type": "stream",
     "text": [
      "\n",
      "Aetna\t<O>\n",
      "Life\t<O>\n",
      "amp\t<O>\n",
      "Casualty\t<O>\n",
      "Co.\t<O>\n",
      "'s\t<O>\n",
      "third-quarter\t<O>\n",
      "net\t<O>\n",
      "income\t<O>\n",
      "fell\t<EVENT>\n",
      "22\t<O>\n",
      "%\t<O>\n",
      "to\t<O>\n",
      "$\t<O>\n",
      "182.6\t<O>\n",
      "million\t\n"
     ]
    }
   ],
   "source": [
    "print(text2[:150])"
   ]
  },
  {
   "cell_type": "code",
   "execution_count": 19,
   "id": "3d3c4dd1",
   "metadata": {},
   "outputs": [],
   "source": [
    "with open('TimeML_train_tags_adjusted_not_meaningful_strings_removed.txt', 'w', encoding='utf8') as outfile:\n",
    "    outfile.write(text2)"
   ]
  },
  {
   "cell_type": "code",
   "execution_count": 20,
   "id": "0adbb792",
   "metadata": {},
   "outputs": [
    {
     "name": "stdout",
     "output_type": "stream",
     "text": [
      "\n",
      "Aetna\t<O>\n",
      "Life\t<O>\n",
      "amp\t<O>\n",
      "Casualty\t<O>\n",
      "Co.\t<O>\n",
      "'s\t<O>\n",
      "third-quarter\t<O>\n",
      "net\t<O>\n",
      "income\t<O>\n",
      "fell\t<EVENT>\n",
      "22\t<O>\n",
      "%\t<O>\n",
      "to\t<O>\n",
      "$\t<O>\n",
      "182.6\t<O>\n",
      "million\t\n"
     ]
    }
   ],
   "source": [
    "with open('TimeML_train_tags_adjusted_not_meaningful_strings_removed.txt', encoding='utf8') as infile:\n",
    "    text = infile.read()\n",
    "print(text[:150])"
   ]
  }
 ],
 "metadata": {
  "kernelspec": {
   "display_name": "Python 3 (ipykernel)",
   "language": "python",
   "name": "python3"
  },
  "language_info": {
   "codemirror_mode": {
    "name": "ipython",
    "version": 3
   },
   "file_extension": ".py",
   "mimetype": "text/x-python",
   "name": "python",
   "nbconvert_exporter": "python",
   "pygments_lexer": "ipython3",
   "version": "3.11.4"
  }
 },
 "nbformat": 4,
 "nbformat_minor": 5
}
