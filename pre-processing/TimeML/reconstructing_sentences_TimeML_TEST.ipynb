{
 "cells": [
  {
   "cell_type": "markdown",
   "id": "51acf59b",
   "metadata": {},
   "source": [
    "Reconstructing the sentences of the **TimeML - TEST** set for zero-shot prompting"
   ]
  },
  {
   "cell_type": "code",
   "execution_count": 1,
   "id": "c4e70431",
   "metadata": {},
   "outputs": [],
   "source": [
    "import pandas as pd"
   ]
  },
  {
   "cell_type": "code",
   "execution_count": 2,
   "id": "9262da08",
   "metadata": {},
   "outputs": [
    {
     "name": "stdout",
     "output_type": "stream",
     "text": [
      "\n",
      "A\tDT\tdet\tO\n",
      "Cyprus\tNNP\tnn\tO\n",
      "exit\tNN\tnsubj\tB-EVENT\n",
      "from\tIN\tprep\tO\n",
      "the\tDT\tdet\tO\n",
      "euro\tNN\tnn\tO\n",
      "union\tNN\tpobj\tO\n",
      ",\t,\t_\tO\n",
      "if\tIN\tmark\tO\n",
      "it\tPRP\tnsubj\tO\n",
      "comes\tVBZ\trcmod\tB-EVENT\n",
      "to\tTO\tprep\tO\n",
      "that\tDT\tpobj\tO\n",
      ",\t,\t_\n"
     ]
    }
   ],
   "source": [
    "with open('test.txt', encoding='utf8') as infile:\n",
    "    text = infile.read()\n",
    "print(text[:200])"
   ]
  },
  {
   "cell_type": "code",
   "execution_count": 3,
   "id": "e05220ad",
   "metadata": {},
   "outputs": [],
   "source": [
    "def token_tag(text):\n",
    "    token_tag_pairs = []\n",
    "    text = text.split('\\n')\n",
    "    for line in text:\n",
    "        tokens_and_tags = line.split('\\t')\n",
    "        if len(tokens_and_tags) == 4:\n",
    "            token_tag_pairs.append(f'{tokens_and_tags[0]}\\t{tokens_and_tags[-1]}')\n",
    "        else:\n",
    "            token_tag_pairs.append('')\n",
    "    tokentag = '\\n'.join(token_tag_pairs)\n",
    "    return tokentag"
   ]
  },
  {
   "cell_type": "code",
   "execution_count": 4,
   "id": "5dd24a61",
   "metadata": {},
   "outputs": [
    {
     "name": "stdout",
     "output_type": "stream",
     "text": [
      "\n",
      "A\tO\n",
      "Cyprus\tO\n",
      "exit\tB-EVENT\n",
      "from\tO\n",
      "the\tO\n",
      "euro\tO\n",
      "union\tO\n",
      ",\tO\n",
      "if\tO\n",
      "it\tO\n",
      "comes\tB-EVENT\n",
      "to\tO\n",
      "that\tO\n",
      ",\tO\n",
      "w\n"
     ]
    }
   ],
   "source": [
    "text = token_tag(text)\n",
    "print(text[:100])"
   ]
  },
  {
   "cell_type": "code",
   "execution_count": 5,
   "id": "2a2b70b7",
   "metadata": {},
   "outputs": [
    {
     "name": "stdout",
     "output_type": "stream",
     "text": [
      "275\n"
     ]
    }
   ],
   "source": [
    "text = text.split('\\n\\n')\n",
    "print(len(text))"
   ]
  },
  {
   "cell_type": "code",
   "execution_count": 6,
   "id": "a62b80a5",
   "metadata": {},
   "outputs": [],
   "source": [
    "def cleaning(sentence):\n",
    "    sentence = sentence.replace(\" n't\", \"n't\")\n",
    "    sentence = sentence.replace(\" 's\", \"'s\")\n",
    "    sentence = sentence.replace(\" 'm\", \"'m\")\n",
    "    sentence = sentence.replace(\" 're\", \"'re\")\n",
    "    sentence = sentence.replace(\" 've\", \"'ve\")\n",
    "    sentence = sentence.replace(\" 'd\", \"'d\")\n",
    "    sentence = sentence.replace(\" .\", \".\")\n",
    "    sentence = sentence.replace(\" ,\", \",\")\n",
    "    sentence = sentence.replace(\" !\", \"!\")\n",
    "    sentence = sentence.replace(\" ?\", \"?\")\n",
    "    sentence = sentence.replace(\" ;\", \";\")\n",
    "    sentence = sentence.replace(\" :\", \":\")\n",
    "    sentence = sentence.replace(\"( \", \"(\")\n",
    "    sentence = sentence.replace(\" )\", \")\")        \n",
    "    return sentence      "
   ]
  },
  {
   "cell_type": "code",
   "execution_count": 7,
   "id": "bcda38e5",
   "metadata": {},
   "outputs": [],
   "source": [
    "def sentence_string(annotated_sentence):\n",
    "    lines_of_annotated_sentence = annotated_sentence.split('\\n')\n",
    "    sentence = []\n",
    "    for line in lines_of_annotated_sentence:\n",
    "        splitline = line.split('\\t')\n",
    "        sentence.append(splitline[0])\n",
    "    sentence_string = ' '.join(sentence)\n",
    "    return cleaning(sentence_string)"
   ]
  },
  {
   "cell_type": "code",
   "execution_count": 8,
   "id": "d841bc20",
   "metadata": {},
   "outputs": [],
   "source": [
    "def sentences_only(list_of_annotated_sentences):\n",
    "    sentences_only = []\n",
    "    for item in list_of_annotated_sentences:\n",
    "        sentence = sentence_string(item)\n",
    "        sentences_only.append(sentence)\n",
    "    return sentences_only"
   ]
  },
  {
   "cell_type": "code",
   "execution_count": 9,
   "id": "58d29f0c",
   "metadata": {},
   "outputs": [
    {
     "name": "stdout",
     "output_type": "stream",
     "text": [
      "Eric Dor is a French economist who has studied the mechanics of how a country might remove itself from the monetary union.\n"
     ]
    }
   ],
   "source": [
    "print(sentences_only(text)[10])"
   ]
  },
  {
   "cell_type": "code",
   "execution_count": 10,
   "id": "ab19889f",
   "metadata": {},
   "outputs": [
    {
     "data": {
      "text/plain": [
       "[\" A Cyprus exit from the euro union, if it comes to that, would have a devastating effect on the country's citizens, who are among the most indebted in the euro zone.\",\n",
       " 'And for European unity and diplomacy, the Cyprus debacle has already been at least a short-term disaster.',\n",
       " \"ut for the broader financial system in Europe, the losses resulting from a Cypriot banking collapse and the country's return to its former currency would be minimal compared with the havoc that Greece would have created had it not been bailed out.\",\n",
       " \"And that, economists and investors contend, is why Germany and its Dutch stalking horse, Jeroen Dijsselbloem, the president of the Eurogroup of finance ministers, were so adamant that depositors - large and small, Cypriot and Russian - contribute 5.8 billion euros -LRB- $ 7.5 billion -RRB- toward the 10 billion euro bailout of Cyprus's largest banks.\",\n",
       " \"Greece may well have been too big to fail last year, but Cyprus, which creates less than one-half percent of the euro zone's gross domestic product, is certainly not.\"]"
      ]
     },
     "execution_count": 10,
     "metadata": {},
     "output_type": "execute_result"
    }
   ],
   "source": [
    "list_of_sentences = sentences_only(text)\n",
    "list_of_sentences[:5]"
   ]
  },
  {
   "cell_type": "code",
   "execution_count": 11,
   "id": "82e37e18",
   "metadata": {},
   "outputs": [
    {
     "data": {
      "text/html": [
       "<div>\n",
       "<style scoped>\n",
       "    .dataframe tbody tr th:only-of-type {\n",
       "        vertical-align: middle;\n",
       "    }\n",
       "\n",
       "    .dataframe tbody tr th {\n",
       "        vertical-align: top;\n",
       "    }\n",
       "\n",
       "    .dataframe thead th {\n",
       "        text-align: right;\n",
       "    }\n",
       "</style>\n",
       "<table border=\"1\" class=\"dataframe\">\n",
       "  <thead>\n",
       "    <tr style=\"text-align: right;\">\n",
       "      <th></th>\n",
       "      <th>sentences</th>\n",
       "    </tr>\n",
       "  </thead>\n",
       "  <tbody>\n",
       "    <tr>\n",
       "      <th>0</th>\n",
       "      <td>A Cyprus exit from the euro union, if it come...</td>\n",
       "    </tr>\n",
       "    <tr>\n",
       "      <th>1</th>\n",
       "      <td>And for European unity and diplomacy, the Cypr...</td>\n",
       "    </tr>\n",
       "    <tr>\n",
       "      <th>2</th>\n",
       "      <td>ut for the broader financial system in Europe,...</td>\n",
       "    </tr>\n",
       "    <tr>\n",
       "      <th>3</th>\n",
       "      <td>And that, economists and investors contend, is...</td>\n",
       "    </tr>\n",
       "    <tr>\n",
       "      <th>4</th>\n",
       "      <td>Greece may well have been too big to fail last...</td>\n",
       "    </tr>\n",
       "    <tr>\n",
       "      <th>...</th>\n",
       "      <td>...</td>\n",
       "    </tr>\n",
       "    <tr>\n",
       "      <th>270</th>\n",
       "      <td>Memorial says inspectors returned to its Mosco...</td>\n",
       "    </tr>\n",
       "    <tr>\n",
       "      <th>271</th>\n",
       "      <td>A statement on the Memorial website said the i...</td>\n",
       "    </tr>\n",
       "    <tr>\n",
       "      <th>272</th>\n",
       "      <td>Memorial director Arseny Roginsky, quoted by t...</td>\n",
       "    </tr>\n",
       "    <tr>\n",
       "      <th>273</th>\n",
       "      <td>He insisted that the NGO law `` will not chang...</td>\n",
       "    </tr>\n",
       "    <tr>\n",
       "      <th>274</th>\n",
       "      <td>`` We won't refuse foreign donations, nor will...</td>\n",
       "    </tr>\n",
       "  </tbody>\n",
       "</table>\n",
       "<p>275 rows × 1 columns</p>\n",
       "</div>"
      ],
      "text/plain": [
       "                                             sentences\n",
       "0     A Cyprus exit from the euro union, if it come...\n",
       "1    And for European unity and diplomacy, the Cypr...\n",
       "2    ut for the broader financial system in Europe,...\n",
       "3    And that, economists and investors contend, is...\n",
       "4    Greece may well have been too big to fail last...\n",
       "..                                                 ...\n",
       "270  Memorial says inspectors returned to its Mosco...\n",
       "271  A statement on the Memorial website said the i...\n",
       "272  Memorial director Arseny Roginsky, quoted by t...\n",
       "273  He insisted that the NGO law `` will not chang...\n",
       "274  `` We won't refuse foreign donations, nor will...\n",
       "\n",
       "[275 rows x 1 columns]"
      ]
     },
     "execution_count": 11,
     "metadata": {},
     "output_type": "execute_result"
    }
   ],
   "source": [
    "df = pd.DataFrame({'sentences': list_of_sentences})\n",
    "df"
   ]
  },
  {
   "cell_type": "code",
   "execution_count": 12,
   "id": "995fbe1f",
   "metadata": {},
   "outputs": [],
   "source": [
    "df.to_csv('TimeML_TEST_list_of_sentences.csv')"
   ]
  },
  {
   "cell_type": "code",
   "execution_count": 13,
   "id": "73feec42",
   "metadata": {},
   "outputs": [],
   "source": [
    "df = pd.read_csv('TimeML_TEST_list_of_sentences.csv')"
   ]
  },
  {
   "cell_type": "code",
   "execution_count": 14,
   "id": "0db2a39c",
   "metadata": {},
   "outputs": [
    {
     "data": {
      "text/html": [
       "<div>\n",
       "<style scoped>\n",
       "    .dataframe tbody tr th:only-of-type {\n",
       "        vertical-align: middle;\n",
       "    }\n",
       "\n",
       "    .dataframe tbody tr th {\n",
       "        vertical-align: top;\n",
       "    }\n",
       "\n",
       "    .dataframe thead th {\n",
       "        text-align: right;\n",
       "    }\n",
       "</style>\n",
       "<table border=\"1\" class=\"dataframe\">\n",
       "  <thead>\n",
       "    <tr style=\"text-align: right;\">\n",
       "      <th></th>\n",
       "      <th>Unnamed: 0</th>\n",
       "      <th>sentences</th>\n",
       "    </tr>\n",
       "  </thead>\n",
       "  <tbody>\n",
       "    <tr>\n",
       "      <th>0</th>\n",
       "      <td>0</td>\n",
       "      <td>A Cyprus exit from the euro union, if it come...</td>\n",
       "    </tr>\n",
       "    <tr>\n",
       "      <th>1</th>\n",
       "      <td>1</td>\n",
       "      <td>And for European unity and diplomacy, the Cypr...</td>\n",
       "    </tr>\n",
       "    <tr>\n",
       "      <th>2</th>\n",
       "      <td>2</td>\n",
       "      <td>ut for the broader financial system in Europe,...</td>\n",
       "    </tr>\n",
       "    <tr>\n",
       "      <th>3</th>\n",
       "      <td>3</td>\n",
       "      <td>And that, economists and investors contend, is...</td>\n",
       "    </tr>\n",
       "    <tr>\n",
       "      <th>4</th>\n",
       "      <td>4</td>\n",
       "      <td>Greece may well have been too big to fail last...</td>\n",
       "    </tr>\n",
       "  </tbody>\n",
       "</table>\n",
       "</div>"
      ],
      "text/plain": [
       "   Unnamed: 0                                          sentences\n",
       "0           0   A Cyprus exit from the euro union, if it come...\n",
       "1           1  And for European unity and diplomacy, the Cypr...\n",
       "2           2  ut for the broader financial system in Europe,...\n",
       "3           3  And that, economists and investors contend, is...\n",
       "4           4  Greece may well have been too big to fail last..."
      ]
     },
     "execution_count": 14,
     "metadata": {},
     "output_type": "execute_result"
    }
   ],
   "source": [
    "df.head()"
   ]
  },
  {
   "cell_type": "code",
   "execution_count": 15,
   "id": "a54e04cb",
   "metadata": {},
   "outputs": [
    {
     "data": {
      "text/plain": [
       "[\" A Cyprus exit from the euro union, if it comes to that, would have a devastating effect on the country's citizens, who are among the most indebted in the euro zone.\",\n",
       " 'And for European unity and diplomacy, the Cyprus debacle has already been at least a short-term disaster.',\n",
       " \"ut for the broader financial system in Europe, the losses resulting from a Cypriot banking collapse and the country's return to its former currency would be minimal compared with the havoc that Greece would have created had it not been bailed out.\",\n",
       " \"And that, economists and investors contend, is why Germany and its Dutch stalking horse, Jeroen Dijsselbloem, the president of the Eurogroup of finance ministers, were so adamant that depositors - large and small, Cypriot and Russian - contribute 5.8 billion euros -LRB- $ 7.5 billion -RRB- toward the 10 billion euro bailout of Cyprus's largest banks.\",\n",
       " \"Greece may well have been too big to fail last year, but Cyprus, which creates less than one-half percent of the euro zone's gross domestic product, is certainly not.\"]"
      ]
     },
     "execution_count": 15,
     "metadata": {},
     "output_type": "execute_result"
    }
   ],
   "source": [
    "entries = df['sentences'].tolist()\n",
    "entries[:5]"
   ]
  }
 ],
 "metadata": {
  "kernelspec": {
   "display_name": "Python 3 (ipykernel)",
   "language": "python",
   "name": "python3"
  },
  "language_info": {
   "codemirror_mode": {
    "name": "ipython",
    "version": 3
   },
   "file_extension": ".py",
   "mimetype": "text/x-python",
   "name": "python",
   "nbconvert_exporter": "python",
   "pygments_lexer": "ipython3",
   "version": "3.11.4"
  }
 },
 "nbformat": 4,
 "nbformat_minor": 5
}
