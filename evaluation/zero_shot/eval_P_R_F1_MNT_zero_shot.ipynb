{
 "cells": [
  {
   "cell_type": "code",
   "execution_count": 1,
   "id": "426c7ca8",
   "metadata": {},
   "outputs": [],
   "source": [
    "import pandas as pd\n",
    "from sklearn.dummy import DummyClassifier\n",
    "from sklearn.metrics import classification_report\n",
    "from sklearn.metrics import confusion_matrix, ConfusionMatrixDisplay\n",
    "from sklearn.utils.multiclass import unique_labels\n",
    "import matplotlib.pyplot as plt\n",
    "import seaborn as sns"
   ]
  },
  {
   "cell_type": "code",
   "execution_count": 2,
   "id": "5598c9a2",
   "metadata": {},
   "outputs": [
    {
     "data": {
      "text/html": [
       "<div>\n",
       "<style scoped>\n",
       "    .dataframe tbody tr th:only-of-type {\n",
       "        vertical-align: middle;\n",
       "    }\n",
       "\n",
       "    .dataframe tbody tr th {\n",
       "        vertical-align: top;\n",
       "    }\n",
       "\n",
       "    .dataframe thead th {\n",
       "        text-align: right;\n",
       "    }\n",
       "</style>\n",
       "<table border=\"1\" class=\"dataframe\">\n",
       "  <thead>\n",
       "    <tr style=\"text-align: right;\">\n",
       "      <th></th>\n",
       "      <th>Unnamed: 0</th>\n",
       "      <th>id</th>\n",
       "      <th>token</th>\n",
       "      <th>gold_label</th>\n",
       "    </tr>\n",
       "  </thead>\n",
       "  <tbody>\n",
       "    <tr>\n",
       "      <th>0</th>\n",
       "      <td>0</td>\n",
       "      <td>139661077321344</td>\n",
       "      <td>Northrop</td>\n",
       "      <td>&lt;O&gt;</td>\n",
       "    </tr>\n",
       "    <tr>\n",
       "      <th>1</th>\n",
       "      <td>1</td>\n",
       "      <td>139661077320704</td>\n",
       "      <td>Grumman</td>\n",
       "      <td>&lt;O&gt;</td>\n",
       "    </tr>\n",
       "    <tr>\n",
       "      <th>2</th>\n",
       "      <td>2</td>\n",
       "      <td>139661077320960</td>\n",
       "      <td>and</td>\n",
       "      <td>&lt;O&gt;</td>\n",
       "    </tr>\n",
       "    <tr>\n",
       "      <th>3</th>\n",
       "      <td>3</td>\n",
       "      <td>139661079156672</td>\n",
       "      <td>Airbus</td>\n",
       "      <td>&lt;O&gt;</td>\n",
       "    </tr>\n",
       "    <tr>\n",
       "      <th>4</th>\n",
       "      <td>4</td>\n",
       "      <td>139661086389312</td>\n",
       "      <td>parent</td>\n",
       "      <td>&lt;O&gt;</td>\n",
       "    </tr>\n",
       "    <tr>\n",
       "      <th>5</th>\n",
       "      <td>5</td>\n",
       "      <td>139661079156352</td>\n",
       "      <td>EADS</td>\n",
       "      <td>&lt;O&gt;</td>\n",
       "    </tr>\n",
       "    <tr>\n",
       "      <th>6</th>\n",
       "      <td>6</td>\n",
       "      <td>139661077323840</td>\n",
       "      <td>defeat</td>\n",
       "      <td>&lt;EVENT&gt;</td>\n",
       "    </tr>\n",
       "    <tr>\n",
       "      <th>7</th>\n",
       "      <td>7</td>\n",
       "      <td>139661086260992</td>\n",
       "      <td>Boeing</td>\n",
       "      <td>&lt;O&gt;</td>\n",
       "    </tr>\n",
       "    <tr>\n",
       "      <th>8</th>\n",
       "      <td>8</td>\n",
       "      <td>139661078350080</td>\n",
       "      <td>for</td>\n",
       "      <td>&lt;O&gt;</td>\n",
       "    </tr>\n",
       "    <tr>\n",
       "      <th>9</th>\n",
       "      <td>9</td>\n",
       "      <td>139661084618880</td>\n",
       "      <td>$</td>\n",
       "      <td>&lt;O&gt;</td>\n",
       "    </tr>\n",
       "  </tbody>\n",
       "</table>\n",
       "</div>"
      ],
      "text/plain": [
       "   Unnamed: 0               id     token gold_label\n",
       "0           0  139661077321344  Northrop        <O>\n",
       "1           1  139661077320704   Grumman        <O>\n",
       "2           2  139661077320960       and        <O>\n",
       "3           3  139661079156672    Airbus        <O>\n",
       "4           4  139661086389312    parent        <O>\n",
       "5           5  139661079156352      EADS        <O>\n",
       "6           6  139661077323840    defeat    <EVENT>\n",
       "7           7  139661086260992    Boeing        <O>\n",
       "8           8  139661078350080       for        <O>\n",
       "9           9  139661084618880         $        <O>"
      ]
     },
     "execution_count": 2,
     "metadata": {},
     "output_type": "execute_result"
    }
   ],
   "source": [
    "MNT_gold_data = pd.read_csv('MNT_zero_shot_gold_equal_length_without_commas_fullstops.csv')\n",
    "MNT_gold_data.head(10)"
   ]
  },
  {
   "cell_type": "code",
   "execution_count": 3,
   "id": "1b7560b4",
   "metadata": {},
   "outputs": [],
   "source": [
    "gold_tokens = MNT_gold_data['token']\n",
    "gold_labels = MNT_gold_data['gold_label']"
   ]
  },
  {
   "cell_type": "code",
   "execution_count": 4,
   "id": "89b1aa7c",
   "metadata": {},
   "outputs": [
    {
     "data": {
      "text/html": [
       "<div>\n",
       "<style scoped>\n",
       "    .dataframe tbody tr th:only-of-type {\n",
       "        vertical-align: middle;\n",
       "    }\n",
       "\n",
       "    .dataframe tbody tr th {\n",
       "        vertical-align: top;\n",
       "    }\n",
       "\n",
       "    .dataframe thead th {\n",
       "        text-align: right;\n",
       "    }\n",
       "</style>\n",
       "<table border=\"1\" class=\"dataframe\">\n",
       "  <thead>\n",
       "    <tr style=\"text-align: right;\">\n",
       "      <th></th>\n",
       "      <th>Unnamed: 0</th>\n",
       "      <th>id</th>\n",
       "      <th>token</th>\n",
       "      <th>predicted_label</th>\n",
       "    </tr>\n",
       "  </thead>\n",
       "  <tbody>\n",
       "    <tr>\n",
       "      <th>0</th>\n",
       "      <td>0</td>\n",
       "      <td>139661077321344</td>\n",
       "      <td>Northrop</td>\n",
       "      <td>&lt;O&gt;</td>\n",
       "    </tr>\n",
       "    <tr>\n",
       "      <th>1</th>\n",
       "      <td>1</td>\n",
       "      <td>139661077320704</td>\n",
       "      <td>Grumman</td>\n",
       "      <td>&lt;O&gt;</td>\n",
       "    </tr>\n",
       "    <tr>\n",
       "      <th>2</th>\n",
       "      <td>2</td>\n",
       "      <td>139661077320960</td>\n",
       "      <td>and</td>\n",
       "      <td>&lt;O&gt;</td>\n",
       "    </tr>\n",
       "    <tr>\n",
       "      <th>3</th>\n",
       "      <td>3</td>\n",
       "      <td>139661079156672</td>\n",
       "      <td>Airbus</td>\n",
       "      <td>&lt;O&gt;</td>\n",
       "    </tr>\n",
       "    <tr>\n",
       "      <th>4</th>\n",
       "      <td>4</td>\n",
       "      <td>139661086389312</td>\n",
       "      <td>parent</td>\n",
       "      <td>&lt;O&gt;</td>\n",
       "    </tr>\n",
       "    <tr>\n",
       "      <th>5</th>\n",
       "      <td>5</td>\n",
       "      <td>139661079156352</td>\n",
       "      <td>EADS</td>\n",
       "      <td>&lt;O&gt;</td>\n",
       "    </tr>\n",
       "    <tr>\n",
       "      <th>6</th>\n",
       "      <td>6</td>\n",
       "      <td>139661077323840</td>\n",
       "      <td>defeat</td>\n",
       "      <td>&lt;O&gt;</td>\n",
       "    </tr>\n",
       "    <tr>\n",
       "      <th>7</th>\n",
       "      <td>7</td>\n",
       "      <td>139661086260992</td>\n",
       "      <td>Boeing</td>\n",
       "      <td>&lt;O&gt;</td>\n",
       "    </tr>\n",
       "    <tr>\n",
       "      <th>8</th>\n",
       "      <td>8</td>\n",
       "      <td>139661078350080</td>\n",
       "      <td>for</td>\n",
       "      <td>&lt;O&gt;</td>\n",
       "    </tr>\n",
       "    <tr>\n",
       "      <th>9</th>\n",
       "      <td>9</td>\n",
       "      <td>139661084618880</td>\n",
       "      <td>$</td>\n",
       "      <td>&lt;O&gt;</td>\n",
       "    </tr>\n",
       "  </tbody>\n",
       "</table>\n",
       "</div>"
      ],
      "text/plain": [
       "   Unnamed: 0               id     token predicted_label\n",
       "0           0  139661077321344  Northrop             <O>\n",
       "1           1  139661077320704   Grumman             <O>\n",
       "2           2  139661077320960       and             <O>\n",
       "3           3  139661079156672    Airbus             <O>\n",
       "4           4  139661086389312    parent             <O>\n",
       "5           5  139661079156352      EADS             <O>\n",
       "6           6  139661077323840    defeat             <O>\n",
       "7           7  139661086260992    Boeing             <O>\n",
       "8           8  139661078350080       for             <O>\n",
       "9           9  139661084618880         $             <O>"
      ]
     },
     "execution_count": 4,
     "metadata": {},
     "output_type": "execute_result"
    }
   ],
   "source": [
    "MNT_predicted_data = pd.read_csv('MNT_zero_shot_predicted_equal_length_without_commas_fullstops.csv')\n",
    "MNT_predicted_data.head(10)"
   ]
  },
  {
   "cell_type": "code",
   "execution_count": 5,
   "id": "078ef9de",
   "metadata": {},
   "outputs": [],
   "source": [
    "predicted_tokens = MNT_predicted_data['token']\n",
    "predicted_labels = MNT_predicted_data['predicted_label']"
   ]
  },
  {
   "cell_type": "code",
   "execution_count": 6,
   "id": "c2a5aabf",
   "metadata": {},
   "outputs": [
    {
     "data": {
      "text/plain": [
       "0        <O>\n",
       "1        <O>\n",
       "2        <O>\n",
       "3        <O>\n",
       "4        <O>\n",
       "        ... \n",
       "23969    <O>\n",
       "23970    <O>\n",
       "23971    <O>\n",
       "23972    <O>\n",
       "23973    <O>\n",
       "Name: predicted_label, Length: 23974, dtype: object"
      ]
     },
     "execution_count": 6,
     "metadata": {},
     "output_type": "execute_result"
    }
   ],
   "source": [
    "predicted_labels"
   ]
  },
  {
   "cell_type": "code",
   "execution_count": 7,
   "id": "3666b827",
   "metadata": {},
   "outputs": [
    {
     "data": {
      "text/plain": [
       "<O>        19958\n",
       "<EVENT>     4016\n",
       "Name: gold_label, dtype: int64"
      ]
     },
     "execution_count": 7,
     "metadata": {},
     "output_type": "execute_result"
    }
   ],
   "source": [
    "gold_labels.value_counts()"
   ]
  },
  {
   "cell_type": "code",
   "execution_count": 8,
   "id": "3da49f51",
   "metadata": {},
   "outputs": [
    {
     "data": {
      "text/plain": [
       "<O>        22303\n",
       "<EVENT>     1671\n",
       "Name: predicted_label, dtype: int64"
      ]
     },
     "execution_count": 8,
     "metadata": {},
     "output_type": "execute_result"
    }
   ],
   "source": [
    "predicted_labels.value_counts()"
   ]
  },
  {
   "cell_type": "code",
   "execution_count": 9,
   "id": "6bf585eb",
   "metadata": {},
   "outputs": [
    {
     "name": "stdout",
     "output_type": "stream",
     "text": [
      "              precision    recall  f1-score   support\n",
      "\n",
      "     <EVENT>       0.39      0.16      0.23      4016\n",
      "         <O>       0.85      0.95      0.90     19958\n",
      "\n",
      "    accuracy                           0.82     23974\n",
      "   macro avg       0.62      0.55      0.56     23974\n",
      "weighted avg       0.77      0.82      0.78     23974\n",
      "\n"
     ]
    }
   ],
   "source": [
    "# comparing the LLM's predicted labels to the gold standard\n",
    "print(classification_report(gold_labels, predicted_labels))"
   ]
  },
  {
   "cell_type": "code",
   "execution_count": 10,
   "id": "4c89636c",
   "metadata": {},
   "outputs": [],
   "source": [
    "x = classification_report(gold_labels, predicted_labels)\n",
    "with open('eval.txt', 'w', encoding = 'utf8') as outfile:\n",
    "    outfile.write(x)"
   ]
  },
  {
   "cell_type": "code",
   "execution_count": 11,
   "id": "6233aa1b",
   "metadata": {},
   "outputs": [],
   "source": [
    "with open('eval.txt', encoding = 'utf8') as infile:\n",
    "    text = infile.read()"
   ]
  },
  {
   "cell_type": "code",
   "execution_count": 12,
   "id": "2bbf6058",
   "metadata": {},
   "outputs": [
    {
     "name": "stdout",
     "output_type": "stream",
     "text": [
      "              precision    recall  f1-score   support\n",
      "\n",
      "     <EVENT>       0.39      0.16      0.23      4016\n",
      "         <O>       0.85      0.95      0.90     19958\n",
      "\n",
      "    accuracy                           0.82     23974\n",
      "   macro avg       0.62      0.55      0.56     23974\n",
      "weighted avg       0.77      0.82      0.78     23974\n",
      "\n"
     ]
    }
   ],
   "source": [
    "print(text)"
   ]
  },
  {
   "cell_type": "code",
   "execution_count": 13,
   "id": "a84efcf7",
   "metadata": {},
   "outputs": [
    {
     "data": {
      "text/plain": [
       "array([[  646,  3370],\n",
       "       [ 1025, 18933]], dtype=int64)"
      ]
     },
     "execution_count": 13,
     "metadata": {},
     "output_type": "execute_result"
    }
   ],
   "source": [
    "confusion_matrix(gold_labels, predicted_labels)"
   ]
  },
  {
   "cell_type": "code",
   "execution_count": 14,
   "id": "899ffcaf",
   "metadata": {},
   "outputs": [
    {
     "name": "stdout",
     "output_type": "stream",
     "text": [
      "['<EVENT>' '<O>']\n"
     ]
    }
   ],
   "source": [
    "data_labels = unique_labels(gold_labels)\n",
    "print(data_labels)"
   ]
  },
  {
   "cell_type": "code",
   "execution_count": 15,
   "id": "9622d0a1",
   "metadata": {},
   "outputs": [
    {
     "data": {
      "image/png": "[encoded data removed]",
      "text/plain": [
       "<Figure size 640x480 with 2 Axes>"
      ]
     },
     "metadata": {},
     "output_type": "display_data"
    }
   ],
   "source": [
    "cm = confusion_matrix(gold_labels, predicted_labels)\n",
    "disp = ConfusionMatrixDisplay(confusion_matrix=cm, display_labels=data_labels)\n",
    "disp.plot();"
   ]
  },
  {
   "cell_type": "code",
   "execution_count": 16,
   "id": "852d517f",
   "metadata": {},
   "outputs": [
    {
     "data": {
      "image/png": "[encoded data removed]",
      "text/plain": [
       "<Figure size 640x480 with 2 Axes>"
      ]
     },
     "metadata": {},
     "output_type": "display_data"
    }
   ],
   "source": [
    "disp.plot().figure_.savefig('confusion_matrix.png')"
   ]
  },
  {
   "cell_type": "code",
   "execution_count": null,
   "id": "cc7d62c6",
   "metadata": {},
   "outputs": [],
   "source": []
  }
 ],
 "metadata": {
  "kernelspec": {
   "display_name": "Python 3 (ipykernel)",
   "language": "python",
   "name": "python3"
  },
  "language_info": {
   "codemirror_mode": {
    "name": "ipython",
    "version": 3
   },
   "file_extension": ".py",
   "mimetype": "text/x-python",
   "name": "python",
   "nbconvert_exporter": "python",
   "pygments_lexer": "ipython3",
   "version": "3.11.4"
  }
 },
 "nbformat": 4,
 "nbformat_minor": 5
}
