{
 "cells": [
  {
   "cell_type": "markdown",
   "id": "e47ed4d2",
   "metadata": {},
   "source": [
    "**Checking event-trigger labels across part-of-speech categories (verbs, nouns, adjectives, pronouns)**\n",
    "1. adding POS tags\n",
    "2. counting the number of true positives, false negatives, false positives"
   ]
  },
  {
   "cell_type": "markdown",
   "id": "4e2950d3",
   "metadata": {},
   "source": [
    "**1. adding POS tags**"
   ]
  },
  {
   "cell_type": "code",
   "execution_count": 1,
   "id": "79d5b923",
   "metadata": {},
   "outputs": [],
   "source": [
    "with open('TimeML_few_shot_gold_predicted_1806_corrected.txt', encoding='utf8') as infile:\n",
    "    text1 = infile.read()"
   ]
  },
  {
   "cell_type": "code",
   "execution_count": 2,
   "id": "db7321d6",
   "metadata": {},
   "outputs": [],
   "source": [
    "text1 = text1.split('\\n')"
   ]
  },
  {
   "cell_type": "code",
   "execution_count": 3,
   "id": "dc7338d7",
   "metadata": {},
   "outputs": [],
   "source": [
    "lines = []\n",
    "for item in text1:\n",
    "    line = item.split()\n",
    "    lines.append(line)"
   ]
  },
  {
   "cell_type": "code",
   "execution_count": 4,
   "id": "a18a35d1",
   "metadata": {},
   "outputs": [],
   "source": [
    "text1_lines = []\n",
    "for line in lines:\n",
    "    if len(line)==5:\n",
    "        text1_lines.append(line)"
   ]
  },
  {
   "cell_type": "code",
   "execution_count": 5,
   "id": "1011257e",
   "metadata": {},
   "outputs": [
    {
     "name": "stdout",
     "output_type": "stream",
     "text": [
      "6409\n",
      "[['140408151629568', 'A', '<O>', 'A', '<O>'], ['140408151559552', 'Cyprus', '<O>', 'Cyprus', '<O>'], ['140408148963008', 'exit', '<EVENT>', 'exit', '<EVENT>'], ['140408148952000', 'from', '<O>', 'from', '<O>'], ['140408148963648', 'the', '<O>', 'the', '<O>'], ['140408150037376', 'euro', '<O>', 'euro', '<O>'], ['140408149589504', 'union', '<O>', 'union', '<O>'], ['140408152268032', 'if', '<O>', 'if', '<O>'], ['140408149577152', 'it', '<O>', 'it', '<O>'], ['140408148951680', 'comes', '<EVENT>', 'comes', '<O>']]\n"
     ]
    }
   ],
   "source": [
    "print(len(text1_lines))\n",
    "print(text1_lines[:10])"
   ]
  },
  {
   "cell_type": "code",
   "execution_count": 6,
   "id": "9cc50ec4",
   "metadata": {},
   "outputs": [],
   "source": [
    "new_lines = []\n",
    "for line in text1_lines:\n",
    "    line = '\\t'.join(line)\n",
    "    new_lines.append(line)\n",
    "    \n",
    "new_lines = tuple(new_lines)"
   ]
  },
  {
   "cell_type": "code",
   "execution_count": 7,
   "id": "f34041fc",
   "metadata": {},
   "outputs": [],
   "source": [
    "with open('test_TimeML.txt', encoding='utf8') as infile:\n",
    "    text = infile.read()"
   ]
  },
  {
   "cell_type": "code",
   "execution_count": 8,
   "id": "37b69fba",
   "metadata": {},
   "outputs": [],
   "source": [
    "text = text.split('\\n')"
   ]
  },
  {
   "cell_type": "code",
   "execution_count": 9,
   "id": "b2510985",
   "metadata": {},
   "outputs": [
    {
     "name": "stdout",
     "output_type": "stream",
     "text": [
      "6408\n",
      "('DT', 'NNP', 'NN', 'IN', 'DT', 'NN', 'NN', 'IN', 'PRP', 'VBZ')\n"
     ]
    }
   ],
   "source": [
    "lines = []\n",
    "for item in text:\n",
    "    line = item.split()\n",
    "    lines.append(line)\n",
    "\n",
    "POS_tags = []\n",
    "for line in lines:\n",
    "    if len(line) ==4 and line[1] != ',' and line[1] != '.': # remove the commas and full-stops\n",
    "        POS_tags.append(line[1])\n",
    "\n",
    "POS_tags = tuple(POS_tags)\n",
    "\n",
    "print(len(POS_tags))\n",
    "print(POS_tags[:10])"
   ]
  },
  {
   "cell_type": "code",
   "execution_count": 10,
   "id": "c933c983",
   "metadata": {},
   "outputs": [],
   "source": [
    "text = zip(new_lines, POS_tags)"
   ]
  },
  {
   "cell_type": "code",
   "execution_count": 11,
   "id": "99b17e31",
   "metadata": {},
   "outputs": [],
   "source": [
    "text = tuple(text)"
   ]
  },
  {
   "cell_type": "code",
   "execution_count": 12,
   "id": "f51ce72a",
   "metadata": {},
   "outputs": [],
   "source": [
    "text_with_POS = []\n",
    "for item in text:\n",
    "    text_with_POS.append(f'{item[0]}\\t{item[1]}\\n')\n",
    "\n",
    "text_with_POS = ''.join(text_with_POS)"
   ]
  },
  {
   "cell_type": "code",
   "execution_count": 13,
   "id": "e3530d58",
   "metadata": {},
   "outputs": [
    {
     "name": "stdout",
     "output_type": "stream",
     "text": [
      "140408151629568\tA\t<O>\tA\t<O>\tDT\n",
      "140408151559552\tCyprus\t<O>\tCyprus\t<O>\tNNP\n",
      "140408148963008\texit\t<EVENT>\texit\t<EVENT>\tNN\n",
      "140408148952000\tfrom\t<O>\tfrom\t<O>\tIN\n",
      "140408148963648\tthe\t<O>\tthe\t<O>\tDT\n",
      "1404081500\n"
     ]
    }
   ],
   "source": [
    "print(text_with_POS[:200])"
   ]
  },
  {
   "cell_type": "markdown",
   "id": "fc3a7fcd",
   "metadata": {},
   "source": [
    "**2. counting the number of true positives, false negatives, false positives**"
   ]
  },
  {
   "cell_type": "code",
   "execution_count": 14,
   "id": "d8616330",
   "metadata": {},
   "outputs": [
    {
     "name": "stdout",
     "output_type": "stream",
     "text": [
      "6409\n",
      "['140408151629568\\tA\\t<O>\\tA\\t<O>\\tDT', '140408151559552\\tCyprus\\t<O>\\tCyprus\\t<O>\\tNNP', '140408148963008\\texit\\t<EVENT>\\texit\\t<EVENT>\\tNN', '140408148952000\\tfrom\\t<O>\\tfrom\\t<O>\\tIN', '140408148963648\\tthe\\t<O>\\tthe\\t<O>\\tDT', '140408150037376\\teuro\\t<O>\\teuro\\t<O>\\tNN', '140408149589504\\tunion\\t<O>\\tunion\\t<O>\\tNN', '140408152268032\\tif\\t<O>\\tif\\t<O>\\tIN', '140408149577152\\tit\\t<O>\\tit\\t<O>\\tPRP', '140408148951680\\tcomes\\t<EVENT>\\tcomes\\t<O>\\tVBZ']\n"
     ]
    }
   ],
   "source": [
    "text = text_with_POS.split('\\n')\n",
    "print(len(text))\n",
    "print(text[:10])"
   ]
  },
  {
   "cell_type": "code",
   "execution_count": 15,
   "id": "962278ec",
   "metadata": {},
   "outputs": [
    {
     "name": "stdout",
     "output_type": "stream",
     "text": [
      "6409\n",
      "[['140408151629568', 'A', '<O>', 'A', '<O>', 'DT'], ['140408151559552', 'Cyprus', '<O>', 'Cyprus', '<O>', 'NNP'], ['140408148963008', 'exit', '<EVENT>', 'exit', '<EVENT>', 'NN'], ['140408148952000', 'from', '<O>', 'from', '<O>', 'IN'], ['140408148963648', 'the', '<O>', 'the', '<O>', 'DT'], ['140408150037376', 'euro', '<O>', 'euro', '<O>', 'NN'], ['140408149589504', 'union', '<O>', 'union', '<O>', 'NN'], ['140408152268032', 'if', '<O>', 'if', '<O>', 'IN'], ['140408149577152', 'it', '<O>', 'it', '<O>', 'PRP'], ['140408148951680', 'comes', '<EVENT>', 'comes', '<O>', 'VBZ']]\n"
     ]
    }
   ],
   "source": [
    "lines = []\n",
    "for item in text:\n",
    "    line = item.split()\n",
    "    lines.append(line)\n",
    "    \n",
    "print(len(lines))\n",
    "print(lines[:10])"
   ]
  },
  {
   "cell_type": "code",
   "execution_count": 16,
   "id": "86ca3d82",
   "metadata": {},
   "outputs": [
    {
     "name": "stdout",
     "output_type": "stream",
     "text": [
      "[]\n"
     ]
    }
   ],
   "source": [
    "for line in lines:\n",
    "    if len(line) !=6:\n",
    "        print(line)\n",
    "    "
   ]
  },
  {
   "cell_type": "code",
   "execution_count": 17,
   "id": "a957db32",
   "metadata": {},
   "outputs": [],
   "source": [
    "verb_TP = 0\n",
    "verb_FN = 0\n",
    "verb_FP = 0"
   ]
  },
  {
   "cell_type": "code",
   "execution_count": 18,
   "id": "c71592b5",
   "metadata": {},
   "outputs": [],
   "source": [
    "for line in lines:\n",
    "    if len(line) ==6:\n",
    "        if line[5]=='VB' or line[5]=='VBD' or line[5]=='VBG' or line[5]=='VBN' or line[5]=='VBP' or line[5]=='VBZ':\n",
    "            if line[2]=='<EVENT>' and line[4]=='<EVENT>':\n",
    "                verb_TP += 1\n",
    "            elif line[2]=='<EVENT>' and line[4]=='<O>':\n",
    "                verb_FN +=1\n",
    "            elif line[2]=='<O>' and line[4]=='<EVENT>':\n",
    "                verb_FP +=1"
   ]
  },
  {
   "cell_type": "code",
   "execution_count": 19,
   "id": "87ff4032",
   "metadata": {},
   "outputs": [
    {
     "name": "stdout",
     "output_type": "stream",
     "text": [
      "verb_TP: 127\n",
      "verb_FN: 83\n",
      "verb_FP: 56\n"
     ]
    }
   ],
   "source": [
    "print(f'verb_TP: {verb_TP}')\n",
    "print(f'verb_FN: {verb_FN}')\n",
    "print(f'verb_FP: {verb_FP}')"
   ]
  },
  {
   "cell_type": "code",
   "execution_count": 20,
   "id": "642cd3bb",
   "metadata": {},
   "outputs": [],
   "source": [
    "noun_TP = 0\n",
    "noun_FN = 0\n",
    "noun_FP = 0"
   ]
  },
  {
   "cell_type": "code",
   "execution_count": 21,
   "id": "cf18cbb8",
   "metadata": {},
   "outputs": [],
   "source": [
    "for line in lines:\n",
    "    if len(line) ==6:\n",
    "        if line[5]=='NN' or line[5]=='NNS' or line[5]=='NNP' or line[5]=='NNPS':\n",
    "            if line[2]=='<EVENT>' and line[4]=='<EVENT>':\n",
    "                noun_TP += 1\n",
    "            elif line[2]=='<EVENT>' and line[4]=='<O>':\n",
    "                noun_FN +=1\n",
    "            elif line[2]=='<O>' and line[4]=='<EVENT>':\n",
    "                noun_FP +=1"
   ]
  },
  {
   "cell_type": "code",
   "execution_count": 22,
   "id": "0e742b38",
   "metadata": {},
   "outputs": [
    {
     "name": "stdout",
     "output_type": "stream",
     "text": [
      "noun_TP: 59\n",
      "noun_FN: 51\n",
      "noun_FP: 24\n"
     ]
    }
   ],
   "source": [
    "print(f'noun_TP: {noun_TP}')\n",
    "print(f'noun_FN: {noun_FN}')\n",
    "print(f'noun_FP: {noun_FP}')"
   ]
  },
  {
   "cell_type": "code",
   "execution_count": 23,
   "id": "a13d837b",
   "metadata": {},
   "outputs": [],
   "source": [
    "adjective_TP = 0\n",
    "adjective_FN = 0\n",
    "adjective_FP = 0"
   ]
  },
  {
   "cell_type": "code",
   "execution_count": 24,
   "id": "b6f7333c",
   "metadata": {},
   "outputs": [],
   "source": [
    "for line in lines:\n",
    "    if len(line) ==6:\n",
    "        if line[5]=='JJ' or line[5]=='JJR' or line[5]=='JJS':\n",
    "            if line[2]=='<EVENT>' and line[4]=='<EVENT>':\n",
    "                adjective_TP += 1\n",
    "            elif line[2]=='<EVENT>' and line[4]=='<O>':\n",
    "                adjective_FN +=1\n",
    "            elif line[2]=='<O>' and line[4]=='<EVENT>':\n",
    "                adjective_FP +=1"
   ]
  },
  {
   "cell_type": "code",
   "execution_count": 25,
   "id": "9bc3a588",
   "metadata": {},
   "outputs": [
    {
     "name": "stdout",
     "output_type": "stream",
     "text": [
      "adjective_TP: 18\n",
      "adjective_FN: 16\n",
      "adjective_FP: 5\n"
     ]
    }
   ],
   "source": [
    "print(f'adjective_TP: {adjective_TP}')\n",
    "print(f'adjective_FN: {adjective_FN}')\n",
    "print(f'adjective_FP: {adjective_FP}')"
   ]
  },
  {
   "cell_type": "code",
   "execution_count": 26,
   "id": "2f4a641d",
   "metadata": {},
   "outputs": [],
   "source": [
    "pronoun_TP = 0\n",
    "pronoun_FN = 0\n",
    "pronoun_FP = 0"
   ]
  },
  {
   "cell_type": "code",
   "execution_count": 27,
   "id": "251180cb",
   "metadata": {},
   "outputs": [],
   "source": [
    "for line in lines:\n",
    "    if len(line) ==6:\n",
    "        if line[5]=='PRP' or line[5]=='PRP$' or line[5]=='WP' or line[5]=='WP$':\n",
    "            if line[2]=='<EVENT>' and line[4]=='<EVENT>':\n",
    "                pronoun_TP += 1\n",
    "            elif line[2]=='<EVENT>' and line[4]=='<O>':\n",
    "                pronoun_FN +=1\n",
    "            elif line[2]=='<O>' and line[4]=='<EVENT>':\n",
    "                pronoun_FP +=1"
   ]
  },
  {
   "cell_type": "code",
   "execution_count": 28,
   "id": "bf7488d8",
   "metadata": {},
   "outputs": [
    {
     "name": "stdout",
     "output_type": "stream",
     "text": [
      "pronoun_TP: 25\n",
      "pronoun_FN: 12\n",
      "pronoun_FP: 2\n"
     ]
    }
   ],
   "source": [
    "print(f'pronoun_TP: {pronoun_TP}')\n",
    "print(f'pronoun_FN: {pronoun_FN}')\n",
    "print(f'pronoun_FP: {pronoun_FP}')"
   ]
  },
  {
   "cell_type": "code",
   "execution_count": null,
   "id": "bff0738a",
   "metadata": {},
   "outputs": [],
   "source": []
  }
 ],
 "metadata": {
  "kernelspec": {
   "display_name": "Python 3 (ipykernel)",
   "language": "python",
   "name": "python3"
  },
  "language_info": {
   "codemirror_mode": {
    "name": "ipython",
    "version": 3
   },
   "file_extension": ".py",
   "mimetype": "text/x-python",
   "name": "python",
   "nbconvert_exporter": "python",
   "pygments_lexer": "ipython3",
   "version": "3.11.4"
  }
 },
 "nbformat": 4,
 "nbformat_minor": 5
}
