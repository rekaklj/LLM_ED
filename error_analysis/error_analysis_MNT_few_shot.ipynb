{
 "cells": [
  {
   "cell_type": "markdown",
   "id": "e47ed4d2",
   "metadata": {},
   "source": [
    "**Checking event-trigger labels across part-of-speech categories (verbs, nouns, adjectives, pronouns)**\n",
    "1. adding POS tags\n",
    "2. counting the number of true positives, false negatives, false positives"
   ]
  },
  {
   "cell_type": "markdown",
   "id": "4e2950d3",
   "metadata": {},
   "source": [
    "**1. adding POS tags**"
   ]
  },
  {
   "cell_type": "code",
   "execution_count": 29,
   "id": "79d5b923",
   "metadata": {},
   "outputs": [],
   "source": [
    "with open('MNT_few_shot_gold_predicted_1806_corrected.txt', encoding='utf8') as infile:\n",
    "    text1 = infile.read()"
   ]
  },
  {
   "cell_type": "code",
   "execution_count": 30,
   "id": "db7321d6",
   "metadata": {},
   "outputs": [],
   "source": [
    "text1 = text1.split('\\n')"
   ]
  },
  {
   "cell_type": "code",
   "execution_count": 31,
   "id": "dc7338d7",
   "metadata": {},
   "outputs": [],
   "source": [
    "lines = []\n",
    "for item in text1:\n",
    "    line = item.split()\n",
    "    lines.append(line)"
   ]
  },
  {
   "cell_type": "code",
   "execution_count": 32,
   "id": "a18a35d1",
   "metadata": {},
   "outputs": [],
   "source": [
    "text1_lines = []\n",
    "for line in lines:\n",
    "    if len(line)==5:\n",
    "        text1_lines.append(line)"
   ]
  },
  {
   "cell_type": "code",
   "execution_count": 33,
   "id": "1011257e",
   "metadata": {},
   "outputs": [
    {
     "name": "stdout",
     "output_type": "stream",
     "text": [
      "23974\n",
      "[['140358938139264', 'Northrop', '<O>', 'Northrop', '<O>'], ['140358938148096', 'Grumman', '<O>', 'Grumman', '<O>'], ['140358938137856', 'and', '<O>', 'and', '<O>'], ['140358938146304', 'Airbus', '<O>', 'Airbus', '<O>'], ['140358944180608', 'parent', '<O>', 'parent', '<O>'], ['140358976254208', 'EADS', '<O>', 'EADS', '<O>'], ['140358945256320', 'defeat', '<EVENT>', 'defeat', '<EVENT>'], ['140358938144768', 'Boeing', '<O>', 'Boeing', '<O>'], ['140358937971840', 'for', '<O>', 'for', '<O>'], ['140358944192384', '$', '<O>', '$', '<O>']]\n"
     ]
    }
   ],
   "source": [
    "print(len(text1_lines))\n",
    "print(text1_lines[:10])"
   ]
  },
  {
   "cell_type": "code",
   "execution_count": 34,
   "id": "9cc50ec4",
   "metadata": {},
   "outputs": [],
   "source": [
    "new_lines = []\n",
    "for line in text1_lines:\n",
    "    line = '\\t'.join(line)\n",
    "    new_lines.append(line)\n",
    "    \n",
    "new_lines = tuple(new_lines)"
   ]
  },
  {
   "cell_type": "code",
   "execution_count": 35,
   "id": "f34041fc",
   "metadata": {},
   "outputs": [],
   "source": [
    "with open('test_MNT.txt', encoding='utf8') as infile:\n",
    "    text = infile.read()"
   ]
  },
  {
   "cell_type": "code",
   "execution_count": 36,
   "id": "37b69fba",
   "metadata": {},
   "outputs": [],
   "source": [
    "text = text.split('\\n')"
   ]
  },
  {
   "cell_type": "code",
   "execution_count": 37,
   "id": "b2510985",
   "metadata": {},
   "outputs": [
    {
     "name": "stdout",
     "output_type": "stream",
     "text": [
      "23974\n",
      "('NNP', 'NNP', 'CC', 'NNP', 'NN', 'NN', 'NN', 'NNP', 'IN', '$')\n"
     ]
    }
   ],
   "source": [
    "lines = []\n",
    "for item in text:\n",
    "    line = item.split()\n",
    "    lines.append(line)\n",
    "\n",
    "POS_tags = []\n",
    "for line in lines:\n",
    "    if len(line) ==4 and line[1] != ',' and line[1] != '.': # remove the commas and full-stops\n",
    "        POS_tags.append(line[1])\n",
    "\n",
    "POS_tags = tuple(POS_tags)\n",
    "\n",
    "print(len(POS_tags))\n",
    "print(POS_tags[:10])"
   ]
  },
  {
   "cell_type": "code",
   "execution_count": 38,
   "id": "c933c983",
   "metadata": {},
   "outputs": [],
   "source": [
    "text = zip(new_lines, POS_tags)"
   ]
  },
  {
   "cell_type": "code",
   "execution_count": 39,
   "id": "99b17e31",
   "metadata": {},
   "outputs": [],
   "source": [
    "text = tuple(text)"
   ]
  },
  {
   "cell_type": "code",
   "execution_count": 40,
   "id": "f51ce72a",
   "metadata": {},
   "outputs": [],
   "source": [
    "text_with_POS = []\n",
    "for item in text:\n",
    "    text_with_POS.append(f'{item[0]}\\t{item[1]}\\n')\n",
    "\n",
    "text_with_POS = ''.join(text_with_POS)"
   ]
  },
  {
   "cell_type": "code",
   "execution_count": 41,
   "id": "e3530d58",
   "metadata": {},
   "outputs": [
    {
     "name": "stdout",
     "output_type": "stream",
     "text": [
      "140358938139264\tNorthrop\t<O>\tNorthrop\t<O>\tNNP\n",
      "140358938148096\tGrumman\t<O>\tGrumman\t<O>\tNNP\n",
      "140358938137856\tand\t<O>\tand\t<O>\tCC\n",
      "140358938146304\tAirbus\t<O>\tAirbus\t<O>\tNNP\n",
      "140358944180608\tparent\t<O>\tparent\n"
     ]
    }
   ],
   "source": [
    "print(text_with_POS[:200])"
   ]
  },
  {
   "cell_type": "markdown",
   "id": "fc3a7fcd",
   "metadata": {},
   "source": [
    "**2. counting the number of true positives, false negatives, false positives**"
   ]
  },
  {
   "cell_type": "code",
   "execution_count": 42,
   "id": "d8616330",
   "metadata": {},
   "outputs": [
    {
     "name": "stdout",
     "output_type": "stream",
     "text": [
      "23975\n",
      "['140358938139264\\tNorthrop\\t<O>\\tNorthrop\\t<O>\\tNNP', '140358938148096\\tGrumman\\t<O>\\tGrumman\\t<O>\\tNNP', '140358938137856\\tand\\t<O>\\tand\\t<O>\\tCC', '140358938146304\\tAirbus\\t<O>\\tAirbus\\t<O>\\tNNP', '140358944180608\\tparent\\t<O>\\tparent\\t<O>\\tNN', '140358976254208\\tEADS\\t<O>\\tEADS\\t<O>\\tNN', '140358945256320\\tdefeat\\t<EVENT>\\tdefeat\\t<EVENT>\\tNN', '140358938144768\\tBoeing\\t<O>\\tBoeing\\t<O>\\tNNP', '140358937971840\\tfor\\t<O>\\tfor\\t<O>\\tIN', '140358944192384\\t$\\t<O>\\t$\\t<O>\\t$']\n"
     ]
    }
   ],
   "source": [
    "text = text_with_POS.split('\\n')\n",
    "print(len(text))\n",
    "print(text[:10])"
   ]
  },
  {
   "cell_type": "code",
   "execution_count": 43,
   "id": "962278ec",
   "metadata": {},
   "outputs": [
    {
     "name": "stdout",
     "output_type": "stream",
     "text": [
      "23975\n",
      "[['140358938139264', 'Northrop', '<O>', 'Northrop', '<O>', 'NNP'], ['140358938148096', 'Grumman', '<O>', 'Grumman', '<O>', 'NNP'], ['140358938137856', 'and', '<O>', 'and', '<O>', 'CC'], ['140358938146304', 'Airbus', '<O>', 'Airbus', '<O>', 'NNP'], ['140358944180608', 'parent', '<O>', 'parent', '<O>', 'NN'], ['140358976254208', 'EADS', '<O>', 'EADS', '<O>', 'NN'], ['140358945256320', 'defeat', '<EVENT>', 'defeat', '<EVENT>', 'NN'], ['140358938144768', 'Boeing', '<O>', 'Boeing', '<O>', 'NNP'], ['140358937971840', 'for', '<O>', 'for', '<O>', 'IN'], ['140358944192384', '$', '<O>', '$', '<O>', '$']]\n"
     ]
    }
   ],
   "source": [
    "lines = []\n",
    "for item in text:\n",
    "    line = item.split()\n",
    "    lines.append(line)\n",
    "    \n",
    "print(len(lines))\n",
    "print(lines[:10])"
   ]
  },
  {
   "cell_type": "code",
   "execution_count": 44,
   "id": "86ca3d82",
   "metadata": {},
   "outputs": [
    {
     "name": "stdout",
     "output_type": "stream",
     "text": [
      "[]\n"
     ]
    }
   ],
   "source": [
    "for line in lines:\n",
    "    if len(line) !=6:\n",
    "        print(line)\n",
    "    "
   ]
  },
  {
   "cell_type": "code",
   "execution_count": 45,
   "id": "a957db32",
   "metadata": {},
   "outputs": [],
   "source": [
    "verb_TP = 0\n",
    "verb_FN = 0\n",
    "verb_FP = 0"
   ]
  },
  {
   "cell_type": "code",
   "execution_count": 46,
   "id": "c71592b5",
   "metadata": {},
   "outputs": [],
   "source": [
    "for line in lines:\n",
    "    if len(line) ==6:\n",
    "        if line[5]=='VB' or line[5]=='VBD' or line[5]=='VBG' or line[5]=='VBN' or line[5]=='VBP' or line[5]=='VBZ':\n",
    "            if line[2]=='<EVENT>' and line[4]=='<EVENT>':\n",
    "                verb_TP += 1\n",
    "            elif line[2]=='<EVENT>' and line[4]=='<O>':\n",
    "                verb_FN +=1\n",
    "            elif line[2]=='<O>' and line[4]=='<EVENT>':\n",
    "                verb_FP +=1"
   ]
  },
  {
   "cell_type": "code",
   "execution_count": 47,
   "id": "87ff4032",
   "metadata": {},
   "outputs": [
    {
     "name": "stdout",
     "output_type": "stream",
     "text": [
      "verb_TP: 1431\n",
      "verb_FN: 1016\n",
      "verb_FP: 107\n"
     ]
    }
   ],
   "source": [
    "print(f'verb_TP: {verb_TP}')\n",
    "print(f'verb_FN: {verb_FN}')\n",
    "print(f'verb_FP: {verb_FP}')"
   ]
  },
  {
   "cell_type": "code",
   "execution_count": 48,
   "id": "642cd3bb",
   "metadata": {},
   "outputs": [],
   "source": [
    "noun_TP = 0\n",
    "noun_FN = 0\n",
    "noun_FP = 0"
   ]
  },
  {
   "cell_type": "code",
   "execution_count": 49,
   "id": "cf18cbb8",
   "metadata": {},
   "outputs": [],
   "source": [
    "for line in lines:\n",
    "    if len(line) ==6:\n",
    "        if line[5]=='NN' or line[5]=='NNS' or line[5]=='NNP' or line[5]=='NNPS':\n",
    "            if line[2]=='<EVENT>' and line[4]=='<EVENT>':\n",
    "                noun_TP += 1\n",
    "            elif line[2]=='<EVENT>' and line[4]=='<O>':\n",
    "                noun_FN +=1\n",
    "            elif line[2]=='<O>' and line[4]=='<EVENT>':\n",
    "                noun_FP +=1"
   ]
  },
  {
   "cell_type": "code",
   "execution_count": 50,
   "id": "0e742b38",
   "metadata": {},
   "outputs": [
    {
     "name": "stdout",
     "output_type": "stream",
     "text": [
      "noun_TP: 304\n",
      "noun_FN: 989\n",
      "noun_FP: 38\n"
     ]
    }
   ],
   "source": [
    "print(f'noun_TP: {noun_TP}')\n",
    "print(f'noun_FN: {noun_FN}')\n",
    "print(f'noun_FP: {noun_FP}')"
   ]
  },
  {
   "cell_type": "code",
   "execution_count": 51,
   "id": "a13d837b",
   "metadata": {},
   "outputs": [],
   "source": [
    "adjective_TP = 0\n",
    "adjective_FN = 0\n",
    "adjective_FP = 0"
   ]
  },
  {
   "cell_type": "code",
   "execution_count": 52,
   "id": "b6f7333c",
   "metadata": {},
   "outputs": [],
   "source": [
    "for line in lines:\n",
    "    if len(line) ==6:\n",
    "        if line[5]=='JJ' or line[5]=='JJR' or line[5]=='JJS':\n",
    "            if line[2]=='<EVENT>' and line[4]=='<EVENT>':\n",
    "                adjective_TP += 1\n",
    "            elif line[2]=='<EVENT>' and line[4]=='<O>':\n",
    "                adjective_FN +=1\n",
    "            elif line[2]=='<O>' and line[4]=='<EVENT>':\n",
    "                adjective_FP +=1"
   ]
  },
  {
   "cell_type": "code",
   "execution_count": 53,
   "id": "9bc3a588",
   "metadata": {},
   "outputs": [
    {
     "name": "stdout",
     "output_type": "stream",
     "text": [
      "adjective_TP: 12\n",
      "adjective_FN: 97\n",
      "adjective_FP: 10\n"
     ]
    }
   ],
   "source": [
    "print(f'adjective_TP: {adjective_TP}')\n",
    "print(f'adjective_FN: {adjective_FN}')\n",
    "print(f'adjective_FP: {adjective_FP}')"
   ]
  },
  {
   "cell_type": "code",
   "execution_count": 54,
   "id": "0d4a51b3",
   "metadata": {},
   "outputs": [],
   "source": [
    "pronoun_TP = 0\n",
    "pronoun_FN = 0\n",
    "pronoun_FP = 0"
   ]
  },
  {
   "cell_type": "code",
   "execution_count": 55,
   "id": "68099214",
   "metadata": {},
   "outputs": [],
   "source": [
    "for line in lines:\n",
    "    if len(line) ==6:\n",
    "        if line[5]=='PRP' or line[5]=='PRP$' or line[5]=='WP' or line[5]=='WP$':\n",
    "            if line[2]=='<EVENT>' and line[4]=='<EVENT>':\n",
    "                pronoun_TP += 1\n",
    "            elif line[2]=='<EVENT>' and line[4]=='<O>':\n",
    "                pronoun_FN +=1\n",
    "            elif line[2]=='<O>' and line[4]=='<EVENT>':\n",
    "                pronoun_FP +=1"
   ]
  },
  {
   "cell_type": "code",
   "execution_count": 56,
   "id": "7064336a",
   "metadata": {},
   "outputs": [
    {
     "name": "stdout",
     "output_type": "stream",
     "text": [
      "pronoun_TP: 0\n",
      "pronoun_FN: 10\n",
      "pronoun_FP: 0\n"
     ]
    }
   ],
   "source": [
    "print(f'pronoun_TP: {pronoun_TP}')\n",
    "print(f'pronoun_FN: {pronoun_FN}')\n",
    "print(f'pronoun_FP: {pronoun_FP}')"
   ]
  }
 ],
 "metadata": {
  "kernelspec": {
   "display_name": "Python 3 (ipykernel)",
   "language": "python",
   "name": "python3"
  },
  "language_info": {
   "codemirror_mode": {
    "name": "ipython",
    "version": 3
   },
   "file_extension": ".py",
   "mimetype": "text/x-python",
   "name": "python",
   "nbconvert_exporter": "python",
   "pygments_lexer": "ipython3",
   "version": "3.11.4"
  }
 },
 "nbformat": 4,
 "nbformat_minor": 5
}
